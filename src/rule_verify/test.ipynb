{
 "cells": [
  {
   "cell_type": "markdown",
   "metadata": {},
   "source": [
    "# 规则验证模块\n",
    "\n",
    "## 主要任务\n",
    "\n",
    "规则验证模块的主要任务，是将硬匹配和软匹配的结果进行二次打标来验证。因为规则的标注并非完全准确，原本需要人去验证，但是人力验证成本过高，因此使用模型来代替人进行验证。\n",
    "\n",
    "这个模块需要一些训练语料来训练模型，同时需要上一轮的软硬匹配结果来进行二次打标。\n",
    "\n",
    "## 具体流程\n",
    "\n",
    "1. 模型训练\n",
    "2. 模型评估\n",
    "3. 模型预测 / 句子打标\n",
    "4. 冲突检验\n"
   ]
  },
  {
   "cell_type": "markdown",
   "metadata": {},
   "source": [
    "# 实验数据准备\n",
    "\n",
    "将 sent_train 数据集中的句子和标签全部利用来训练模型\n",
    "\n",
    "利用 Word2vec 将句子变成向量"
   ]
  },
  {
   "cell_type": "code",
   "execution_count": 3,
   "metadata": {},
   "outputs": [
    {
     "data": {
      "text/html": [
       "<div>\n",
       "<style scoped>\n",
       "    .dataframe tbody tr th:only-of-type {\n",
       "        vertical-align: middle;\n",
       "    }\n",
       "\n",
       "    .dataframe tbody tr th {\n",
       "        vertical-align: top;\n",
       "    }\n",
       "\n",
       "    .dataframe thead th {\n",
       "        text-align: right;\n",
       "    }\n",
       "</style>\n",
       "<table border=\"1\" class=\"dataframe\">\n",
       "  <thead>\n",
       "    <tr style=\"text-align: right;\">\n",
       "      <th></th>\n",
       "      <th>sent</th>\n",
       "      <th>label</th>\n",
       "    </tr>\n",
       "  </thead>\n",
       "  <tbody>\n",
       "    <tr>\n",
       "      <th>0</th>\n",
       "      <td>四 薛 人物二 人物一 薛宝钗 薛宝琴</td>\n",
       "      <td>1</td>\n",
       "    </tr>\n",
       "    <tr>\n",
       "      <th>1</th>\n",
       "      <td>冷子兴 官 人物二 人物一 外出 做生意</td>\n",
       "      <td>1</td>\n",
       "    </tr>\n",
       "    <tr>\n",
       "      <th>2</th>\n",
       "      <td>冷子兴 官 人物二 人物一 邢岫烟 外出 做生意 参与 贩卖 官盐 邢岫烟 并不知道 情况</td>\n",
       "      <td>1</td>\n",
       "    </tr>\n",
       "    <tr>\n",
       "      <th>3</th>\n",
       "      <td>人物二 打死 人命 牢里 耐不住 寂寞 勾引 人物一</td>\n",
       "      <td>1</td>\n",
       "    </tr>\n",
       "    <tr>\n",
       "      <th>4</th>\n",
       "      <td>大色 空四 薛 人物二 人物一 薛宝钗 薛宝琴</td>\n",
       "      <td>1</td>\n",
       "    </tr>\n",
       "    <tr>\n",
       "      <th>...</th>\n",
       "      <td>...</td>\n",
       "      <td>...</td>\n",
       "    </tr>\n",
       "    <tr>\n",
       "      <th>995</th>\n",
       "      <td>人物一 问知 人物二 曰 务民之义 敬鬼神而远之 可谓 知矣</td>\n",
       "      <td>0</td>\n",
       "    </tr>\n",
       "    <tr>\n",
       "      <th>996</th>\n",
       "      <td>人物一 请学稼 人物二 曰 吾 老农</td>\n",
       "      <td>0</td>\n",
       "    </tr>\n",
       "    <tr>\n",
       "      <th>997</th>\n",
       "      <td>学生 人物一 问 智 人物二 答 知 论语 颜渊</td>\n",
       "      <td>0</td>\n",
       "    </tr>\n",
       "    <tr>\n",
       "      <th>998</th>\n",
       "      <td>人物二 力倡 爱人 人物一 问 仁 人物二 回答 爱人 论语 颜渊</td>\n",
       "      <td>0</td>\n",
       "    </tr>\n",
       "    <tr>\n",
       "      <th>999</th>\n",
       "      <td>人物二 弟子 冉有 没 老师 失望 带 周父 人物一 积极 备战 派 武城 三百 守住 宫...</td>\n",
       "      <td>0</td>\n",
       "    </tr>\n",
       "  </tbody>\n",
       "</table>\n",
       "<p>1000 rows × 2 columns</p>\n",
       "</div>"
      ],
      "text/plain": [
       "                                                  sent  label\n",
       "0                                  四 薛 人物二 人物一 薛宝钗 薛宝琴      1\n",
       "1                                 冷子兴 官 人物二 人物一 外出 做生意      1\n",
       "2        冷子兴 官 人物二 人物一 邢岫烟 外出 做生意 参与 贩卖 官盐 邢岫烟 并不知道 情况      1\n",
       "3                           人物二 打死 人命 牢里 耐不住 寂寞 勾引 人物一      1\n",
       "4                              大色 空四 薛 人物二 人物一 薛宝钗 薛宝琴      1\n",
       "..                                                 ...    ...\n",
       "995                     人物一 问知 人物二 曰 务民之义 敬鬼神而远之 可谓 知矣      0\n",
       "996                                 人物一 请学稼 人物二 曰 吾 老农      0\n",
       "997                           学生 人物一 问 智 人物二 答 知 论语 颜渊      0\n",
       "998                  人物二 力倡 爱人 人物一 问 仁 人物二 回答 爱人 论语 颜渊      0\n",
       "999   人物二 弟子 冉有 没 老师 失望 带 周父 人物一 积极 备战 派 武城 三百 守住 宫...      0\n",
       "\n",
       "[1000 rows x 2 columns]"
      ]
     },
     "execution_count": 3,
     "metadata": {},
     "output_type": "execute_result"
    }
   ],
   "source": [
    "# 导入实验数据\n",
    "import pandas as pd\n",
    "\n",
    "train_data = pd.read_csv(\"/Users/xuhaoshuai/GitHub/HumanIE_IPM/data/sent_train/brother.csv\")\n",
    "train_data"
   ]
  },
  {
   "cell_type": "code",
   "execution_count": 6,
   "metadata": {},
   "outputs": [
    {
     "data": {
      "text/plain": [
       "0                                    四 薛 人物二 人物一 薛宝钗 薛宝琴\n",
       "1                                   冷子兴 官 人物二 人物一 外出 做生意\n",
       "2          冷子兴 官 人物二 人物一 邢岫烟 外出 做生意 参与 贩卖 官盐 邢岫烟 并不知道 情况\n",
       "3                             人物二 打死 人命 牢里 耐不住 寂寞 勾引 人物一\n",
       "4                                大色 空四 薛 人物二 人物一 薛宝钗 薛宝琴\n",
       "                             ...                        \n",
       "995                       人物一 问知 人物二 曰 务民之义 敬鬼神而远之 可谓 知矣\n",
       "996                                   人物一 请学稼 人物二 曰 吾 老农\n",
       "997                             学生 人物一 问 智 人物二 答 知 论语 颜渊\n",
       "998                    人物二 力倡 爱人 人物一 问 仁 人物二 回答 爱人 论语 颜渊\n",
       "999     人物二 弟子 冉有 没 老师 失望 带 周父 人物一 积极 备战 派 武城 三百 守住 宫...\n",
       "Name: sent, Length: 1000, dtype: object"
      ]
     },
     "execution_count": 6,
     "metadata": {},
     "output_type": "execute_result"
    }
   ],
   "source": [
    "# 抽取句子部分\n",
    "train_sent_set = train_data['sent']\n",
    "\n",
    "train_sent_set"
   ]
  },
  {
   "cell_type": "code",
   "execution_count": null,
   "metadata": {},
   "outputs": [],
   "source": [
    "# 调用 Word2vec\n",
    "from gensim.models import Word2Vec, word2vec\n",
    "\n",
    "model = Word2Vec.load(\"/Users/xuhaoshuai/GitHub/HumanIE_IPM/src/softmatch/word2vec.model\")"
   ]
  }
 ],
 "metadata": {
  "interpreter": {
   "hash": "b0fa6594d8f4cbf19f97940f81e996739fb7646882a419484c72d19e05852a7e"
  },
  "kernelspec": {
   "display_name": "Python 3.9.6 64-bit",
   "language": "python",
   "name": "python3"
  },
  "language_info": {
   "codemirror_mode": {
    "name": "ipython",
    "version": 3
   },
   "file_extension": ".py",
   "mimetype": "text/x-python",
   "name": "python",
   "nbconvert_exporter": "python",
   "pygments_lexer": "ipython3",
   "version": "3.9.6"
  },
  "orig_nbformat": 4
 },
 "nbformat": 4,
 "nbformat_minor": 2
}
